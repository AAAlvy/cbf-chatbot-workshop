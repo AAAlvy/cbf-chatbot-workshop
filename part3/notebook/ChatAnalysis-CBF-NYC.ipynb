{
 "cells": [
  {
   "cell_type": "markdown",
   "metadata": {
    "collapsed": true
   },
   "source": [
    "# Analyzing Conversations\n",
    "\n",
    "This data science notebook analyzes the log of all conversations between users and the bot to help understand how it was used, and what topics were of greatest interest to users."
   ]
  },
  {
   "cell_type": "markdown",
   "metadata": {},
   "source": [
    "### Prerequisites\n",
    "We're going to use PixieDust to help visualize our data. You can learn more about PixieDust at https://ibm-cds-labs.github.io/pixiedust/.\n",
    "In the following cell we ensure we are running the lastest version of PixieDust. Be sure to restart your kernel if instructed to do so."
   ]
  },
  {
   "cell_type": "code",
   "execution_count": null,
   "metadata": {
    "collapsed": false
   },
   "outputs": [],
   "source": [
    "!pip install --user --upgrade pixiedust"
   ]
  },
  {
   "cell_type": "code",
   "execution_count": null,
   "metadata": {
    "collapsed": false
   },
   "outputs": [],
   "source": [
    "import pixiedust\n",
    "pixiedust.enableJobMonitor()"
   ]
  },
  {
   "cell_type": "code",
   "execution_count": null,
   "metadata": {
    "collapsed": false
   },
   "outputs": [],
   "source": [
    "from pyspark.sql.functions import explode, lower"
   ]
  },
  {
   "cell_type": "markdown",
   "metadata": {},
   "source": [
    "### Configure database connectivity\n",
    "Enter your Cloudant information below."
   ]
  },
  {
   "cell_type": "code",
   "execution_count": null,
   "metadata": {
    "collapsed": false
   },
   "outputs": [],
   "source": [
    "# Enter your Cloudant host name\n",
    "host = 'adc809a8-9e28-41c4-bfac-faf3e36a9862-bluemix.cloudant.com'\n",
    "# Enter your Cloudant user name\n",
    "username = 'acelymposelaneallondints'\n",
    "# Enter your Cloudant password\n",
    "password = '14f7814094c43a22ddef8492d2f9ce95abf6efb3'\n",
    "# Enter your source database name\n",
    "database = 'cbf_nyc_chatbot_convos'"
   ]
  },
  {
   "cell_type": "markdown",
   "metadata": {},
   "source": [
    "### Load documents from the database\n",
    "Load the documents into an Apache Spark DataFrame."
   ]
  },
  {
   "cell_type": "code",
   "execution_count": null,
   "metadata": {
    "collapsed": false
   },
   "outputs": [],
   "source": [
    "# no changes are required to this cell\n",
    "# obtain SparkSession\n",
    "sparkSession = SparkSession.builder.getOrCreate()\n",
    "# load data\n",
    "conversation_df = sparkSession.read.format(\"com.cloudant.spark\").\\\n",
    "    option(\"cloudant.host\", host).\\\n",
    "    option(\"cloudant.username\", username).\\\n",
    "    option(\"cloudant.password\", password).\\\n",
    "    load(database)"
   ]
  },
  {
   "cell_type": "markdown",
   "metadata": {},
   "source": [
    "### Document Structure\n",
    "\n",
    "Each document in the database represents a single conversation made with the chatbot. Each conversation includes the user, date, and the steps of the conversation. The steps are stored in an array called dialogs (referring to the dialogs in Watson Conversation that were traversed as part of the conversation). Here is a sample conversation:\n",
    "\n",
    "<code>\n",
    "\"_id\": \"19e231d78c7106b61993bd3aacc77520\",\n",
    "\"_rev\": \"3-3dad296b493c1cf2f12fc1a082661f82\",\n",
    "\"userId\": \"iLhfu20E\",\n",
    "\"date\": 1494347114492,\n",
    "\"dialogs\": [\n",
    "  {\n",
    "    \"name\": \"sickGetSymptoms\",\n",
    "    \"message\": \"I'm not feeling well\",\n",
    "    \"reply\": \"I'm sorry to hear that. Why don't you tell me what is bothering you?\\n\",\n",
    "    \"date\": 1494347114695\n",
    "  },\n",
    "  {\n",
    "    \"name\": \"sickENTSymptoms\",\n",
    "    \"message\": \"I have a sore throat\",\n",
    "    \"reply\": \"OK. It sounds like an ENT might be able to help you. Give me your address and I'll try and find one nearby.\\n\",\n",
    "    \"date\": 1494347121729\n",
    "  }\n",
    "]\n",
    "</code>\n",
    "\n",
    "In the following cell we print the schema to confirm the structure of the documents."
   ]
  },
  {
   "cell_type": "code",
   "execution_count": null,
   "metadata": {
    "collapsed": false
   },
   "outputs": [],
   "source": [
    "conversation_df.printSchema()"
   ]
  },
  {
   "cell_type": "markdown",
   "metadata": {},
   "source": [
    "### How many conversations where there?\n",
    "Let's start by showing how many conversations there have been with the Chatbot: "
   ]
  },
  {
   "cell_type": "code",
   "execution_count": null,
   "metadata": {
    "collapsed": false
   },
   "outputs": [],
   "source": [
    "conversation_df.count()"
   ]
  },
  {
   "cell_type": "markdown",
   "metadata": {},
   "source": [
    "### Flatten the Cloudant JSON document structure\n",
    "Each dialog contains a message field which contains the message sent by the user, and a name field which represents the action performed by the system based on the message sent by the user and the current dialog in the conversation as managed by Watson Conversation. For example, the name `findDoctorLocation` maps to the action of searching for a doctor. We want to do some analysis on specific actions and the messages associated with those actions, so in the next cell we convert each row (which has the dialog array) into multiple rows - one for each dialog. This will make it easier for us to filter and aggregate based on the message and name fields in the dialogs."
   ]
  },
  {
   "cell_type": "code",
   "execution_count": null,
   "metadata": {
    "collapsed": false
   },
   "outputs": [],
   "source": [
    "dialog_df = conversation_df.select(explode(conversation_df.dialogs).alias(\"dialog\"))\n",
    "dialog_df = dialog_df.select(\"dialog.date\", \n",
    "                                         lower(dialog_df.dialog.message).alias(\"message\"), \n",
    "                                         \"dialog.name\")\n",
    "dialog_df.printSchema()"
   ]
  },
  {
   "cell_type": "markdown",
   "metadata": {},
   "source": [
    "### Display Dialogs in PixieDust\n",
    "Below we display each dialog in a PixieDust table. You can see the date, message (the message the user sent to the chatbot), and name (the name of the action performed)."
   ]
  },
  {
   "cell_type": "code",
   "execution_count": null,
   "metadata": {
    "collapsed": false,
    "pixiedust": {
     "displayParams": {
      "handlerId": "dataframe"
     }
    }
   },
   "outputs": [],
   "source": [
    "display(dialog_df)"
   ]
  },
  {
   "cell_type": "markdown",
   "metadata": {},
   "source": [
    "### How many conversations started with people saying they were sick?\n",
    "The action `sickGetSymptoms` is stored when a user says they are not feeling well. Here we create a DataFrame with only those search actions:"
   ]
  },
  {
   "cell_type": "code",
   "execution_count": null,
   "metadata": {
    "collapsed": false
   },
   "outputs": [],
   "source": [
    "sick_dialog_df = dialog_df.filter(dialog_df.name == 'sickGetSymptoms')\n",
    "sick_dialog_df.count()"
   ]
  },
  {
   "cell_type": "markdown",
   "metadata": {},
   "source": [
    "### What were some of the symptoms we were unable to detect"
   ]
  },
  {
   "cell_type": "code",
   "execution_count": null,
   "metadata": {
    "collapsed": false
   },
   "outputs": [],
   "source": [
    "unknown_symptom_dialog_df = dialog_df.filter(dialog_df.name == 'sickUnknownSymptoms')\n",
    "unknown_symptom_dialog_df.count()"
   ]
  },
  {
   "cell_type": "markdown",
   "metadata": {},
   "source": [
    "### What were the most common symptoms we were unable to detect?\n",
    "Next we group by message. Message is the message sent by the user. In this case it essentially represents the search term entered by the user for finding Interactive sessions. Here we aggregate and display the search terms across all users:"
   ]
  },
  {
   "cell_type": "code",
   "execution_count": null,
   "metadata": {
    "collapsed": false,
    "pixiedust": {
     "displayParams": {
      "handlerId": "dataframe"
     }
    }
   },
   "outputs": [],
   "source": [
    "unknown_symptom_dialog_by_message_df = unknown_symptom_dialog_df.groupBy('message').count().orderBy('count', ascending=False)\n",
    "display(unknown_symptom_dialog_by_message_df)"
   ]
  },
  {
   "cell_type": "markdown",
   "metadata": {},
   "source": [
    "### Display PixieDust Bar Chart"
   ]
  },
  {
   "cell_type": "code",
   "execution_count": null,
   "metadata": {
    "collapsed": false,
    "pixiedust": {
     "displayParams": {
      "aggregation": "SUM",
      "handlerId": "barChart",
      "keyFields": "message",
      "legend": "false",
      "orientation": "horizontal",
      "rendererId": "matplotlib",
      "rowCount": "20",
      "valueFields": "count"
     }
    }
   },
   "outputs": [],
   "source": [
    "display(unknown_symptom_dialog_by_message_df.limit(20))"
   ]
  },
  {
   "cell_type": "markdown",
   "metadata": {},
   "source": [
    "### Display PixieDust Pie Chart"
   ]
  },
  {
   "cell_type": "code",
   "execution_count": null,
   "metadata": {
    "collapsed": false,
    "pixiedust": {
     "displayParams": {
      "aggregation": "SUM",
      "handlerId": "pieChart",
      "keyFields": "message",
      "rowCount": "100",
      "valueFields": "count"
     }
    }
   },
   "outputs": [],
   "source": [
    "display(unknown_symptom_dialog_by_message_df.limit(10))"
   ]
  },
  {
   "cell_type": "markdown",
   "metadata": {},
   "source": [
    "## Conclusions "
   ]
  }
 ],
 "metadata": {
  "kernelspec": {
   "display_name": "Python with Pixiedust (Spark 2.0)",
   "language": "python",
   "name": "pythonwithpixiedustspark20"
  },
  "language_info": {
   "codemirror_mode": {
    "name": "ipython",
    "version": 2
   },
   "file_extension": ".py",
   "mimetype": "text/x-python",
   "name": "python",
   "nbconvert_exporter": "python",
   "pygments_lexer": "ipython2",
   "version": "2.7.12"
  }
 },
 "nbformat": 4,
 "nbformat_minor": 0
}
